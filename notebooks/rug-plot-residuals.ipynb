{
 "cells": [
  {
   "cell_type": "markdown",
   "metadata": {},
   "source": [
    "#### Rugplots\n",
    "Author: Ruth Hanna\n",
    "\n",
    "This notebook contains the code to generate the guide-level rugplots."
   ]
  },
  {
   "cell_type": "code",
   "execution_count": 27,
   "metadata": {},
   "outputs": [],
   "source": [
    "import pandas as pd\n",
    "import seaborn as sns\n",
    "import numpy as np\n",
    "import matplotlib.pyplot as plt\n",
    "import matplotlib as mpl\n",
    "import csv\n",
    "sns.set(style='ticks', context='paper',  palette='Set2')\n",
    "mpl.rc('pdf', fonttype=42)\n"
   ]
  },
  {
   "cell_type": "code",
   "execution_count": 3,
   "metadata": {},
   "outputs": [
    {
     "data": {
      "text/html": [
       "<div>\n",
       "<style scoped>\n",
       "    .dataframe tbody tr th:only-of-type {\n",
       "        vertical-align: middle;\n",
       "    }\n",
       "\n",
       "    .dataframe tbody tr th {\n",
       "        vertical-align: top;\n",
       "    }\n",
       "\n",
       "    .dataframe thead th {\n",
       "        text-align: right;\n",
       "    }\n",
       "</style>\n",
       "<table border=\"1\" class=\"dataframe\">\n",
       "  <thead>\n",
       "    <tr style=\"text-align: right;\">\n",
       "      <th></th>\n",
       "      <th>Construct Barcode</th>\n",
       "      <th>Construct IDs</th>\n",
       "      <th>condition</th>\n",
       "      <th>lfc</th>\n",
       "      <th>lfc_x</th>\n",
       "      <th>residual</th>\n",
       "      <th>label</th>\n",
       "    </tr>\n",
       "  </thead>\n",
       "  <tbody>\n",
       "    <tr>\n",
       "      <th>0</th>\n",
       "      <td>TGATAGTAGGATAATAGCGA</td>\n",
       "      <td>BRDN0003924380</td>\n",
       "      <td>Vero-E6-New Cas9;D10 5e6;First-infection</td>\n",
       "      <td>-0.456782</td>\n",
       "      <td>-0.860302</td>\n",
       "      <td>0.594065</td>\n",
       "      <td>Cas9-v2 D10 5e6 Hi-MOI</td>\n",
       "    </tr>\n",
       "    <tr>\n",
       "      <th>1</th>\n",
       "      <td>TGATAGTAGGATAATAGCGA</td>\n",
       "      <td>BRDN0003924380</td>\n",
       "      <td>Vero-E6-New Cas9;D5 5e6;First-infection</td>\n",
       "      <td>-2.131402</td>\n",
       "      <td>-0.860302</td>\n",
       "      <td>-1.054760</td>\n",
       "      <td>Cas9-v2 D5 5e6 Hi-MOI</td>\n",
       "    </tr>\n",
       "    <tr>\n",
       "      <th>2</th>\n",
       "      <td>TGATAGTAGGATAATAGCGA</td>\n",
       "      <td>BRDN0003924380</td>\n",
       "      <td>Vero-E6-New Cas9;D2 5e6;First-infection</td>\n",
       "      <td>-1.881366</td>\n",
       "      <td>-0.860302</td>\n",
       "      <td>-0.786243</td>\n",
       "      <td>Cas9-v2 D2 5e6 Hi-MOI</td>\n",
       "    </tr>\n",
       "    <tr>\n",
       "      <th>3</th>\n",
       "      <td>TGATAGTAGGATAATAGCGA</td>\n",
       "      <td>BRDN0003924380</td>\n",
       "      <td>Vero-E6-New Cas9;D5 2.5e6;Low MOI-First</td>\n",
       "      <td>-1.340930</td>\n",
       "      <td>-0.860302</td>\n",
       "      <td>-0.197215</td>\n",
       "      <td>Cas9-v2 D5 2.5e6 Lo-MOI</td>\n",
       "    </tr>\n",
       "    <tr>\n",
       "      <th>4</th>\n",
       "      <td>TGATAGTAGGATAATAGCGA</td>\n",
       "      <td>BRDN0003924380</td>\n",
       "      <td>Vero-E6-New Cas9;D5 2.5e6;High MOI-First</td>\n",
       "      <td>0.511683</td>\n",
       "      <td>-0.860302</td>\n",
       "      <td>1.651744</td>\n",
       "      <td>Cas9-v2 D5 2.5e6 Hi-MOI</td>\n",
       "    </tr>\n",
       "  </tbody>\n",
       "</table>\n",
       "</div>"
      ],
      "text/plain": [
       "      Construct Barcode   Construct IDs  \\\n",
       "0  TGATAGTAGGATAATAGCGA  BRDN0003924380   \n",
       "1  TGATAGTAGGATAATAGCGA  BRDN0003924380   \n",
       "2  TGATAGTAGGATAATAGCGA  BRDN0003924380   \n",
       "3  TGATAGTAGGATAATAGCGA  BRDN0003924380   \n",
       "4  TGATAGTAGGATAATAGCGA  BRDN0003924380   \n",
       "\n",
       "                                  condition       lfc     lfc_x  residual  \\\n",
       "0  Vero-E6-New Cas9;D10 5e6;First-infection -0.456782 -0.860302  0.594065   \n",
       "1   Vero-E6-New Cas9;D5 5e6;First-infection -2.131402 -0.860302 -1.054760   \n",
       "2   Vero-E6-New Cas9;D2 5e6;First-infection -1.881366 -0.860302 -0.786243   \n",
       "3   Vero-E6-New Cas9;D5 2.5e6;Low MOI-First -1.340930 -0.860302 -0.197215   \n",
       "4  Vero-E6-New Cas9;D5 2.5e6;High MOI-First  0.511683 -0.860302  1.651744   \n",
       "\n",
       "                     label  \n",
       "0   Cas9-v2 D10 5e6 Hi-MOI  \n",
       "1    Cas9-v2 D5 5e6 Hi-MOI  \n",
       "2    Cas9-v2 D2 5e6 Hi-MOI  \n",
       "3  Cas9-v2 D5 2.5e6 Lo-MOI  \n",
       "4  Cas9-v2 D5 2.5e6 Hi-MOI  "
      ]
     },
     "execution_count": 3,
     "metadata": {},
     "output_type": "execute_result"
    }
   ],
   "source": [
    "# Load in data\n",
    "data = pd.read_csv('../data/interim/all_guide_lfcs_residuals.csv')\n",
    "data.head()"
   ]
  },
  {
   "cell_type": "code",
   "execution_count": 4,
   "metadata": {},
   "outputs": [
    {
     "data": {
      "text/html": [
       "<div>\n",
       "<style scoped>\n",
       "    .dataframe tbody tr th:only-of-type {\n",
       "        vertical-align: middle;\n",
       "    }\n",
       "\n",
       "    .dataframe tbody tr th {\n",
       "        vertical-align: top;\n",
       "    }\n",
       "\n",
       "    .dataframe thead th {\n",
       "        text-align: right;\n",
       "    }\n",
       "</style>\n",
       "<table border=\"1\" class=\"dataframe\">\n",
       "  <thead>\n",
       "    <tr style=\"text-align: right;\">\n",
       "      <th></th>\n",
       "      <th>Barcode Sequence</th>\n",
       "      <th>Gene Symbol</th>\n",
       "      <th>Gene ID</th>\n",
       "      <th>NCBI Symbol</th>\n",
       "      <th>Pseudo Gene</th>\n",
       "      <th>Gene</th>\n",
       "    </tr>\n",
       "  </thead>\n",
       "  <tbody>\n",
       "    <tr>\n",
       "      <th>0</th>\n",
       "      <td>AAAAAAAAAAACTCAAAGAT</td>\n",
       "      <td>SET</td>\n",
       "      <td>103239793</td>\n",
       "      <td>SET</td>\n",
       "      <td>NaN</td>\n",
       "      <td>SET</td>\n",
       "    </tr>\n",
       "    <tr>\n",
       "      <th>1</th>\n",
       "      <td>AAAAAAAAACTGGAATCATG</td>\n",
       "      <td>LOC103248058</td>\n",
       "      <td>103248058</td>\n",
       "      <td>LOC103248058</td>\n",
       "      <td>NaN</td>\n",
       "      <td>LOC103248058</td>\n",
       "    </tr>\n",
       "    <tr>\n",
       "      <th>2</th>\n",
       "      <td>AAAAAAACAAAGTGTGGCGT</td>\n",
       "      <td>LOC103243876</td>\n",
       "      <td>103243876</td>\n",
       "      <td>LOC103243876</td>\n",
       "      <td>NaN</td>\n",
       "      <td>LOC103243876</td>\n",
       "    </tr>\n",
       "    <tr>\n",
       "      <th>3</th>\n",
       "      <td>AAAAAAACCTCTCGCTCCTG</td>\n",
       "      <td>LOC103243369</td>\n",
       "      <td>103243369</td>\n",
       "      <td>LOC103243369</td>\n",
       "      <td>NaN</td>\n",
       "      <td>LOC103243369</td>\n",
       "    </tr>\n",
       "    <tr>\n",
       "      <th>4</th>\n",
       "      <td>AAAAAAAGAGACACTGTTGT</td>\n",
       "      <td>ICOS</td>\n",
       "      <td>103217691</td>\n",
       "      <td>ICOS</td>\n",
       "      <td>NaN</td>\n",
       "      <td>ICOS</td>\n",
       "    </tr>\n",
       "  </tbody>\n",
       "</table>\n",
       "</div>"
      ],
      "text/plain": [
       "       Barcode Sequence   Gene Symbol    Gene ID   NCBI Symbol Pseudo Gene  \\\n",
       "0  AAAAAAAAAAACTCAAAGAT           SET  103239793           SET         NaN   \n",
       "1  AAAAAAAAACTGGAATCATG  LOC103248058  103248058  LOC103248058         NaN   \n",
       "2  AAAAAAACAAAGTGTGGCGT  LOC103243876  103243876  LOC103243876         NaN   \n",
       "3  AAAAAAACCTCTCGCTCCTG  LOC103243369  103243369  LOC103243369         NaN   \n",
       "4  AAAAAAAGAGACACTGTTGT          ICOS  103217691          ICOS         NaN   \n",
       "\n",
       "           Gene  \n",
       "0           SET  \n",
       "1  LOC103248058  \n",
       "2  LOC103243876  \n",
       "3  LOC103243369  \n",
       "4          ICOS  "
      ]
     },
     "execution_count": 4,
     "metadata": {},
     "output_type": "execute_result"
    }
   ],
   "source": [
    "# Load in chip file (mapping guide to gene)\n",
    "chip = pd.read_table('../data/interim/CP0070_Chlorocebus_sabeus_remapped.chip')\n",
    "chip.head()\n"
   ]
  },
  {
   "cell_type": "code",
   "execution_count": 5,
   "metadata": {},
   "outputs": [],
   "source": [
    "# Gets guides from chip file for a given gene symbol\n",
    "def get_guides_for_gene(gene_symbol):\n",
    "    return chip.loc[chip['Gene'] == gene_symbol, 'Barcode Sequence'].tolist()\n"
   ]
  },
  {
   "cell_type": "code",
   "execution_count": 6,
   "metadata": {},
   "outputs": [
    {
     "data": {
      "text/plain": [
       "['Cas9-v2 D5 2.5e6 Hi-MOI',\n",
       " 'Cas9-v2 D2 5e6 Hi-MOI',\n",
       " 'Cas9-v2 D5 2.5e6 Lo-MOI',\n",
       " 'Cas9-v2 D10 5e6 Hi-MOI',\n",
       " 'Cas9-v2 D5 5e6 Hi-MOI']"
      ]
     },
     "execution_count": 6,
     "metadata": {},
     "output_type": "execute_result"
    }
   ],
   "source": [
    "conditions = list(set(data.label.tolist()))\n",
    "\n",
    "# Only include Cas9-v2 conditions\n",
    "conditions = [condition for condition in conditions if condition.startswith('Cas9-v2')]\n",
    "conditions"
   ]
  },
  {
   "cell_type": "code",
   "execution_count": 7,
   "metadata": {},
   "outputs": [
    {
     "data": {
      "text/html": [
       "<div>\n",
       "<style scoped>\n",
       "    .dataframe tbody tr th:only-of-type {\n",
       "        vertical-align: middle;\n",
       "    }\n",
       "\n",
       "    .dataframe tbody tr th {\n",
       "        vertical-align: top;\n",
       "    }\n",
       "\n",
       "    .dataframe thead th {\n",
       "        text-align: right;\n",
       "    }\n",
       "</style>\n",
       "<table border=\"1\" class=\"dataframe\">\n",
       "  <thead>\n",
       "    <tr style=\"text-align: right;\">\n",
       "      <th></th>\n",
       "      <th>residual</th>\n",
       "    </tr>\n",
       "    <tr>\n",
       "      <th>Construct Barcode</th>\n",
       "      <th></th>\n",
       "    </tr>\n",
       "  </thead>\n",
       "  <tbody>\n",
       "    <tr>\n",
       "      <th>AAAAAAAAACTGGAATCATG</th>\n",
       "      <td>0.706080</td>\n",
       "    </tr>\n",
       "    <tr>\n",
       "      <th>AAAAAAACAAAGTGTGGCGT</th>\n",
       "      <td>-0.748897</td>\n",
       "    </tr>\n",
       "    <tr>\n",
       "      <th>AAAAAAACCTCTCGCTCCTG</th>\n",
       "      <td>0.254776</td>\n",
       "    </tr>\n",
       "    <tr>\n",
       "      <th>AAAAAAAGAGACACTGTTGT</th>\n",
       "      <td>1.169518</td>\n",
       "    </tr>\n",
       "    <tr>\n",
       "      <th>AAAAAAAGGACCTGAAAGTG</th>\n",
       "      <td>0.830862</td>\n",
       "    </tr>\n",
       "  </tbody>\n",
       "</table>\n",
       "</div>"
      ],
      "text/plain": [
       "                      residual\n",
       "Construct Barcode             \n",
       "AAAAAAAAACTGGAATCATG  0.706080\n",
       "AAAAAAACAAAGTGTGGCGT -0.748897\n",
       "AAAAAAACCTCTCGCTCCTG  0.254776\n",
       "AAAAAAAGAGACACTGTTGT  1.169518\n",
       "AAAAAAAGGACCTGAAAGTG  0.830862"
      ]
     },
     "execution_count": 7,
     "metadata": {},
     "output_type": "execute_result"
    }
   ],
   "source": [
    "# Filter data to only include Cas9-v2 conditions\n",
    "data = data.loc[data['label'].isin(conditions), ['Construct Barcode', 'label', 'residual']]\n",
    "\n",
    "# Calculate mean residual across all Cas9-v2 conditions\n",
    "mean_z = data.groupby(['Construct Barcode']).mean()\n",
    "\n",
    "mean_z.head()"
   ]
  },
  {
   "cell_type": "code",
   "execution_count": 8,
   "metadata": {},
   "outputs": [],
   "source": [
    "def make_rugplots_v2(df, genes, lims=[-5,5]):\n",
    "\n",
    "    # Make subplots\n",
    "    height_ratios = [2] + ([1]*len(genes))\n",
    "    fig,ax = plt.subplots((len(genes)+1), 1, figsize=(2,len(genes)/4+0.5), gridspec_kw={'height_ratios': height_ratios}, sharex=True)\n",
    "\n",
    "    # KDE plot of all residuals\n",
    "    sns.kdeplot(data=df['residual'], color='black', legend=False, ax=ax[0])\n",
    "    ax[0].set_xlim(lims)\n",
    "    ax[0].set_xticks([])\n",
    "    ax[0].set_yticks([])\n",
    "    ax[0].text(5.5, 0.2, 'full library', fontsize=8)\n",
    "\n",
    "    # Rugplots for each gene\n",
    "    for i, gene in enumerate(genes):\n",
    "        guides = get_guides_for_gene(gene)\n",
    "        sns.rugplot(a=df.loc[df.index.isin(guides),'residual'],height=1, ax=ax[i+1], color='black', alpha=0.5)\n",
    "        print(len(df.loc[df.index.isin(guides),'residual']))\n",
    "        ax[i+1].text(5.5, 0.4, gene, fontsize=8)\n",
    "        ax[i+1].set_xticks([])\n",
    "        ax[i+1].set_yticks([])\n",
    "\n",
    "    ax[len(genes)].set_xticks([-4, -2, 0, 2, 4])\n",
    "    ax[len(genes)].tick_params(labelsize=8)\n",
    "    ax[len(genes)].set_xlabel('mean residual', fontsize=8)\n",
    "    \n",
    "    return fig, ax\n",
    "\n"
   ]
  },
  {
   "cell_type": "code",
   "execution_count": 9,
   "metadata": {},
   "outputs": [
    {
     "data": {
      "text/html": [
       "<div>\n",
       "<style scoped>\n",
       "    .dataframe tbody tr th:only-of-type {\n",
       "        vertical-align: middle;\n",
       "    }\n",
       "\n",
       "    .dataframe tbody tr th {\n",
       "        vertical-align: top;\n",
       "    }\n",
       "\n",
       "    .dataframe thead th {\n",
       "        text-align: right;\n",
       "    }\n",
       "</style>\n",
       "<table border=\"1\" class=\"dataframe\">\n",
       "  <thead>\n",
       "    <tr style=\"text-align: right;\">\n",
       "      <th></th>\n",
       "      <th>Gene</th>\n",
       "      <th>mean_z</th>\n",
       "      <th>n</th>\n",
       "      <th>mean_lfc</th>\n",
       "      <th>combined_pvalue</th>\n",
       "      <th>fdr</th>\n",
       "      <th>ascending_rank</th>\n",
       "      <th>descending_rank</th>\n",
       "    </tr>\n",
       "  </thead>\n",
       "  <tbody>\n",
       "    <tr>\n",
       "      <th>0</th>\n",
       "      <td>A1BG</td>\n",
       "      <td>-0.658483</td>\n",
       "      <td>4</td>\n",
       "      <td>-0.260650</td>\n",
       "      <td>0.580939</td>\n",
       "      <td>1.000000</td>\n",
       "      <td>4211.0</td>\n",
       "      <td>17462.0</td>\n",
       "    </tr>\n",
       "    <tr>\n",
       "      <th>1</th>\n",
       "      <td>A1CF</td>\n",
       "      <td>0.291824</td>\n",
       "      <td>4</td>\n",
       "      <td>0.035876</td>\n",
       "      <td>0.948948</td>\n",
       "      <td>1.000000</td>\n",
       "      <td>13599.0</td>\n",
       "      <td>8074.0</td>\n",
       "    </tr>\n",
       "    <tr>\n",
       "      <th>2</th>\n",
       "      <td>A2ML1</td>\n",
       "      <td>0.758146</td>\n",
       "      <td>4</td>\n",
       "      <td>-0.391920</td>\n",
       "      <td>0.429209</td>\n",
       "      <td>1.000000</td>\n",
       "      <td>18103.0</td>\n",
       "      <td>3570.0</td>\n",
       "    </tr>\n",
       "    <tr>\n",
       "      <th>3</th>\n",
       "      <td>A3GALT2</td>\n",
       "      <td>0.460144</td>\n",
       "      <td>4</td>\n",
       "      <td>0.426764</td>\n",
       "      <td>0.353254</td>\n",
       "      <td>1.000000</td>\n",
       "      <td>15459.0</td>\n",
       "      <td>6214.0</td>\n",
       "    </tr>\n",
       "    <tr>\n",
       "      <th>4</th>\n",
       "      <td>A4GALT</td>\n",
       "      <td>0.976356</td>\n",
       "      <td>4</td>\n",
       "      <td>0.646544</td>\n",
       "      <td>0.218853</td>\n",
       "      <td>0.866779</td>\n",
       "      <td>19500.0</td>\n",
       "      <td>2173.0</td>\n",
       "    </tr>\n",
       "  </tbody>\n",
       "</table>\n",
       "</div>"
      ],
      "text/plain": [
       "      Gene    mean_z  n  mean_lfc  combined_pvalue       fdr  ascending_rank  \\\n",
       "0     A1BG -0.658483  4 -0.260650         0.580939  1.000000          4211.0   \n",
       "1     A1CF  0.291824  4  0.035876         0.948948  1.000000         13599.0   \n",
       "2    A2ML1  0.758146  4 -0.391920         0.429209  1.000000         18103.0   \n",
       "3  A3GALT2  0.460144  4  0.426764         0.353254  1.000000         15459.0   \n",
       "4   A4GALT  0.976356  4  0.646544         0.218853  0.866779         19500.0   \n",
       "\n",
       "   descending_rank  \n",
       "0          17462.0  \n",
       "1           8074.0  \n",
       "2           3570.0  \n",
       "3           6214.0  \n",
       "4           2173.0  "
      ]
     },
     "execution_count": 9,
     "metadata": {},
     "output_type": "execute_result"
    }
   ],
   "source": [
    "mean_data = pd.read_csv('../data/processed/Cas9_v2_avg_zscores.csv')\n",
    "mean_data.head()"
   ]
  },
  {
   "cell_type": "code",
   "execution_count": 10,
   "metadata": {},
   "outputs": [],
   "source": [
    "genes_df = pd.read_csv('../data/external/validated_genes.csv')\n",
    "genes_df = pd.merge(genes_df, mean_data, on='Gene', how='left')\n",
    "genes_df = genes_df.sort_values(by='descending_rank')"
   ]
  },
  {
   "cell_type": "code",
   "execution_count": 11,
   "metadata": {},
   "outputs": [],
   "source": [
    "def make_rugplots_v3(df, genes, color_list, lims=[-5,5]):\n",
    "\n",
    "    sns.set_style('white')\n",
    "    \n",
    "    # Make subplots\n",
    "    height_ratios = [2] + ([1]*len(genes))\n",
    "    fig,ax = plt.subplots((len(genes)+1), 1, figsize=(2,len(genes)/4+0.5), gridspec_kw={'height_ratios': height_ratios}, sharex=True)\n",
    "\n",
    "    # KDE plot of all residuals\n",
    "    sns.kdeplot(data=df['residual'], color='black', legend=False, ax=ax[0])\n",
    "    ax[0].set_xlim(lims)\n",
    "    ax[0].set_xticks([])\n",
    "    ax[0].set_yticks([])\n",
    "    ax[0].text(5.5, 0.2, 'full library', fontsize=8)\n",
    "    ax[0].axvline(x=0,ymin=-1.2,ymax=1,c='black',linestyle='dashed',linewidth=0.5,zorder=0, clip_on=False)\n",
    "    \n",
    "    # Rugplots for each gene\n",
    "    for i, gene in enumerate(genes):\n",
    "        guides = get_guides_for_gene(gene)\n",
    "        sns.rugplot(a=df.loc[df.index.isin(guides),'residual'],height=1, ax=ax[i+1], color=color_list[i], alpha=0.5)\n",
    "        ax[i+1].text(5.5, 0.4, gene, fontsize=8)\n",
    "        ax[i+1].set_xticks([])\n",
    "        ax[i+1].set_yticks([])\n",
    "        ax[i+1].axvline(x=0,ymin=-1.2,ymax=1,c='black',linestyle='dashed',linewidth=0.5,zorder=0, clip_on=False)\n",
    "        \n",
    "    \n",
    "    ax[len(genes)].set_xticks([-4, -2, 0, 2, 4])\n",
    "    ax[len(genes)].tick_params(labelsize=8)\n",
    "    ax[len(genes)].set_xlabel('mean residual', fontsize=8)\n",
    "    \n",
    "    \n",
    "    return fig, ax\n",
    "\n"
   ]
  },
  {
   "cell_type": "code",
   "execution_count": 12,
   "metadata": {},
   "outputs": [
    {
     "data": {
      "image/png": "[encoded data removed]",
      "text/plain": [
       "<Figure size 144x522 with 28 Axes>"
      ]
     },
     "metadata": {},
     "output_type": "display_data"
    }
   ],
   "source": [
    "def get_color(row):\n",
    "    if row['ascending_rank'] < 300:\n",
    "        return '#0571b0'\n",
    "    elif row['descending_rank'] < 300:\n",
    "        return '#ca0020'\n",
    "    else:\n",
    "        return 'black'\n",
    "    \n",
    "genes_df['color'] = genes_df.apply(get_color, axis=1)\n",
    "color_list = genes_df['color'].tolist()\n",
    "genes = genes_df['Gene'].tolist()\n",
    "\n",
    "fig, ax = make_rugplots_v3(mean_z, genes, color_list)\n",
    "fig.savefig('../figures/raw-plots/rugplot_validation_v1.pdf',bbox_inches='tight', transparent=True)"
   ]
  },
  {
   "cell_type": "code",
   "execution_count": 13,
   "metadata": {},
   "outputs": [
    {
     "data": {
      "image/png": "[encoded data removed]",
      "text/plain": [
       "<Figure size 144x54 with 2 Axes>"
      ]
     },
     "metadata": {},
     "output_type": "display_data"
    }
   ],
   "source": [
    "# LOC103214541 corresponds to high mobility group protein B1-like\n",
    "genes = ['LOC103214541']\n",
    "color_list = ['#ca0020']\n",
    "\n",
    "fig, ax = make_rugplots_v3(mean_z, genes, color_list)\n",
    "fig.savefig('../figures/raw-plots/rugplot_HMGB1_v2.pdf',bbox_inches='tight', transparent=True)\n"
   ]
  },
  {
   "cell_type": "code",
   "execution_count": 14,
   "metadata": {},
   "outputs": [
    {
     "data": {
      "image/png": "[encoded data removed]",
      "text/plain": [
       "<Figure size 144x108 with 5 Axes>"
      ]
     },
     "metadata": {},
     "output_type": "display_data"
    }
   ],
   "source": [
    "genes = ['ACE2', 'SMARCA4', 'CTSL', 'TMPRSS2']\n",
    "color_list = ['#ca0020', '#ca0020', '#ca0020', 'black']\n",
    "\n",
    "fig, ax = make_rugplots_v3(mean_z, genes, color_list)\n",
    "fig.savefig('../figures/raw-plots/rugplot_v2.pdf',bbox_inches='tight', transparent=True)"
   ]
  },
  {
   "cell_type": "code",
   "execution_count": 29,
   "metadata": {},
   "outputs": [
    {
     "data": {
      "image/png": "[encoded data removed]",
      "text/plain": [
       "<Figure size 144x126 with 6 Axes>"
      ]
     },
     "metadata": {},
     "output_type": "display_data"
    }
   ],
   "source": [
    "# LOC103222822 corresponds to SMN1\n",
    "genes = ['LOC103222822', 'GEMIN8', 'GEMIN5', 'DDX20', 'GEMIN2']\n",
    "color_list = ['black']*len(genes)\n",
    "\n",
    "fig, ax = make_rugplots_v3(mean_z, genes, color_list)\n",
    "fig.savefig('../figures/raw-plots/SMN_rugplot.pdf', bbox_inches='tight', transparent=True)"
   ]
  },
  {
   "cell_type": "code",
   "execution_count": 28,
   "metadata": {},
   "outputs": [],
   "source": [
    "with open('../data/interim/SMN_guides.csv', mode='w') as file:\n",
    "    writer = csv.writer(file, delimiter=',', quotechar='\"', quoting=csv.QUOTE_MINIMAL)\n",
    "    for gene in genes:\n",
    "        guides = get_guides_for_gene(gene)\n",
    "        for guide in guides:\n",
    "            writer.writerow([gene, guide])\n"
   ]
  }
 ],
 "metadata": {
  "kernelspec": {
   "display_name": "Python 3",
   "language": "python",
   "name": "python3"
  },
  "language_info": {
   "codemirror_mode": {
    "name": "ipython",
    "version": 3
   },
   "file_extension": ".py",
   "mimetype": "text/x-python",
   "name": "python",
   "nbconvert_exporter": "python",
   "pygments_lexer": "ipython3",
   "version": "3.8.3"
  }
 },
 "nbformat": 4,
 "nbformat_minor": 4
}
