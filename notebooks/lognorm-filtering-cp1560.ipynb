{
 "cells": [
  {
   "cell_type": "markdown",
   "metadata": {},
   "source": [
    "### Filtering raw data\n",
    "\n",
    "Author: Ruth Hanna\n",
    "\n",
    "This notebook combines pDNA and gDNA sequencing data and applies two filters. One is to remove any sgRNAs with an outlier pDNA count. The second is to remove any sgRNAs with > 5 off-targets in Match Bin I."
   ]
  },
  {
   "cell_type": "code",
   "execution_count": 5,
   "metadata": {},
   "outputs": [],
   "source": [
    "import pandas as pd\n",
    "import seaborn as sns\n",
    "import numpy as np\n",
    "import matplotlib.pyplot as plt\n",
    "from math import log, isnan"
   ]
  },
  {
   "cell_type": "markdown",
   "metadata": {},
   "source": [
    "First, we merge the files containing lognorms for pDNA and gDNA."
   ]
  },
  {
   "cell_type": "code",
   "execution_count": 6,
   "metadata": {},
   "outputs": [],
   "source": [
    "def calc_lognorm(df, col):\n",
    "    col_sum = np.sum(df[col])\n",
    "    df.loc[:,'lognorm'] = [np.log2((x*1000000/float(col_sum))+1) for x in df[col]]\n",
    "    return df"
   ]
  },
  {
   "cell_type": "code",
   "execution_count": 8,
   "metadata": {},
   "outputs": [
    {
     "data": {
      "text/plain": [
       "(148, 7)"
      ]
     },
     "execution_count": 8,
     "metadata": {},
     "output_type": "execute_result"
    }
   ],
   "source": [
    "# Read in plasmid DNA lognorms\n",
    "pdna = pd.read_table('../data/raw/lognorm-BF20200608_B05_AAGB04_RDA208_G1_CP1560_M-AK47.txt')\n",
    "\n",
    "# Take lognorm\n",
    "pdna = pdna.rename(columns = {'B05_AAGB04_RDA208_G1_CP1560_M-AK47':'pDNA'})\n",
    "pdna.shape"
   ]
  },
  {
   "cell_type": "code",
   "execution_count": 11,
   "metadata": {},
   "outputs": [
    {
     "data": {
      "text/plain": [
       "(148, 4)"
      ]
     },
     "execution_count": 11,
     "metadata": {},
     "output_type": "execute_result"
    }
   ],
   "source": [
    "# Read in lognorms \n",
    "lognorms = pd.read_table('../data/raw/lognorm-JD_GPP1868_Alfajaro_Wilen_CP1560.txt')\n",
    "lognorms = lognorms.filter(regex='CP1560|Construct')\n",
    "lognorms.shape"
   ]
  },
  {
   "cell_type": "code",
   "execution_count": 12,
   "metadata": {},
   "outputs": [
    {
     "data": {
      "text/plain": [
       "(148, 5)"
      ]
     },
     "execution_count": 12,
     "metadata": {},
     "output_type": "execute_result"
    }
   ],
   "source": [
    "# Merge pDNA lognorms with gDNA conditions\n",
    "all_lognorms = pd.merge(pdna[['Construct Barcode', 'pDNA']], lognorms, on='Construct Barcode', how='inner')\n",
    "all_lognorms.shape"
   ]
  },
  {
   "cell_type": "markdown",
   "metadata": {},
   "source": [
    "#### pDNA filter\n",
    "Next, we apply a filter to remove any sgRNAs for which lognorm(pDNA) is more than 3 standard deviations from the mean. This removes 2 sgRNAs."
   ]
  },
  {
   "cell_type": "code",
   "execution_count": 14,
   "metadata": {},
   "outputs": [
    {
     "data": {
      "text/plain": [
       "<matplotlib.lines.Line2D at 0x7f9fe89cec10>"
      ]
     },
     "execution_count": 14,
     "metadata": {},
     "output_type": "execute_result"
    },
    {
     "data": {
      "image/png": "[encoded data removed]",
      "text/plain": [
       "<Figure size 432x288 with 1 Axes>"
      ]
     },
     "metadata": {
      "needs_background": "light"
     },
     "output_type": "display_data"
    }
   ],
   "source": [
    "# Apply a filter for sgRNAs with outlier pDNA counts\n",
    "fig, ax = plt.subplots()\n",
    "sns.kdeplot(all_lognorms['pDNA'])\n",
    "low_cutoff = all_lognorms['pDNA'].mean() - 3*all_lognorms['pDNA'].std()\n",
    "high_cutoff = all_lognorms['pDNA'].mean() + 3*all_lognorms['pDNA'].std()\n",
    "ax.axvline(low_cutoff, color = 'black', linestyle = 'dashed')\n",
    "ax.axvline(high_cutoff, color = 'black', linestyle = 'dashed')"
   ]
  },
  {
   "cell_type": "code",
   "execution_count": 15,
   "metadata": {},
   "outputs": [
    {
     "data": {
      "text/plain": [
       "False    146\n",
       "True       2\n",
       "Name: pDNA_filter, dtype: int64"
      ]
     },
     "execution_count": 15,
     "metadata": {},
     "output_type": "execute_result"
    }
   ],
   "source": [
    "all_lognorms.loc[:, 'pDNA_filter'] = all_lognorms.loc[:, 'pDNA'].apply(lambda x: ((x < low_cutoff) or (x > high_cutoff)))\n",
    "all_lognorms['pDNA_filter'].value_counts()"
   ]
  },
  {
   "cell_type": "markdown",
   "metadata": {},
   "source": [
    "#### Off-target filter\n",
    "Next, we load the original picking file, which contains a FISHR search. We calculate the total number of off-targets in Match Bin I (CFD100 match) and filter out any sgRNAs with > 5 off-targets in Match Bin I. This filter identifies 120 sgRNAs."
   ]
  },
  {
   "cell_type": "code",
   "execution_count": 16,
   "metadata": {},
   "outputs": [
    {
     "name": "stdout",
     "output_type": "stream",
     "text": [
      "(5541536, 5)\n",
      "(128, 5)\n"
     ]
    }
   ],
   "source": [
    "picking_stats = pd.read_table('../data/raw/sgRNA_design_60711_Chlorocebus_sabeus_1.1_SpyoCas9_CRISPRko_NCBI_20200415.txt', \n",
    "                              usecols=['sgRNA Sequence',\n",
    "                                       '# Off-Target Tier I Match Bin I Matches', \n",
    "                                       '# Off-Target Tier II Match Bin I Matches',\n",
    "                                       '# Off-Target Tier III Match Bin I Matches',\n",
    "                                       '# Off-Target Tier IV Match Bin I Matches'])\n",
    "\n",
    "print(picking_stats.shape)\n",
    "\n",
    "# Filter file to remove any sgRNAs not in final library\n",
    "picking_stats = picking_stats.loc[picking_stats['sgRNA Sequence'].isin(all_lognorms['Construct Barcode'].tolist())]\n",
    "\n",
    "print(picking_stats.shape)"
   ]
  },
  {
   "cell_type": "markdown",
   "metadata": {},
   "source": [
    "A small number of sgRNAs (~2000) are listed multiple times in the picking file. It looks like this is mainly in cases where they target multiple genes (i.e. multiple transcripts are annotated at the same site). In such cases, we take the maximum Match Bin I sum."
   ]
  },
  {
   "cell_type": "code",
   "execution_count": 17,
   "metadata": {},
   "outputs": [
    {
     "name": "stdout",
     "output_type": "stream",
     "text": [
      "(128, 1)\n"
     ]
    }
   ],
   "source": [
    "def get_mb_sum(row):\n",
    "    if row['# Off-Target Tier I Match Bin I Matches'] == 'MAX':\n",
    "        return 40000\n",
    "    mb_sum = 0\n",
    "    for tier in ['I','II','III','IV']:\n",
    "        col = '# Off-Target Tier '+tier+' Match Bin I Matches'\n",
    "        mb_sum += int(row[col])\n",
    "    return mb_sum\n",
    "\n",
    "# Calculate the Match Bin I sum\n",
    "picking_stats.loc[:, 'Match Bin I sum'] = picking_stats.apply(get_mb_sum, axis=1)\n",
    "\n",
    "# A small number of sgRNAs are listed twice (for different genes)\n",
    "# We take the max Match Bin I sum to be conservative\n",
    "picking_stats = picking_stats.loc[:,['sgRNA Sequence', 'Match Bin I sum']].groupby('sgRNA Sequence').agg('max')\n",
    "print(picking_stats.shape)"
   ]
  },
  {
   "cell_type": "code",
   "execution_count": 18,
   "metadata": {},
   "outputs": [
    {
     "name": "stdout",
     "output_type": "stream",
     "text": [
      "(148, 6)\n",
      "(148, 7)\n"
     ]
    }
   ],
   "source": [
    "print(all_lognorms.shape)\n",
    "\n",
    "# We merge the Match Bin I sum column onto our original dataframe\n",
    "all_lognorms = pd.merge(all_lognorms, picking_stats, left_on='Construct Barcode', right_index=True, how='left')\n",
    "\n",
    "# Fill in any NaNs with 0 (this is for non-targeting controls, which will not be in the picking file)\n",
    "all_lognorms.loc[:, 'Match Bin I sum'] = all_lognorms.loc[:, 'Match Bin I sum'].fillna(0) \n",
    "\n",
    "print(all_lognorms.shape)"
   ]
  },
  {
   "cell_type": "code",
   "execution_count": 19,
   "metadata": {},
   "outputs": [
    {
     "data": {
      "text/plain": [
       "0.0    142\n",
       "1.0      6\n",
       "Name: Match Bin I sum, dtype: int64"
      ]
     },
     "execution_count": 19,
     "metadata": {},
     "output_type": "execute_result"
    }
   ],
   "source": [
    "all_lognorms['Match Bin I sum'].value_counts()"
   ]
  },
  {
   "cell_type": "code",
   "execution_count": 20,
   "metadata": {},
   "outputs": [
    {
     "data": {
      "text/plain": [
       "False    148\n",
       "Name: off_target_filter, dtype: int64"
      ]
     },
     "execution_count": 20,
     "metadata": {},
     "output_type": "execute_result"
    }
   ],
   "source": [
    "# Filter out sgRNAs with > 5 sites in Match Bin I\n",
    "all_lognorms.loc[:, 'off_target_filter'] = all_lognorms.loc[:, 'Match Bin I sum'].apply(lambda x: x not in range(0, 6))\n",
    "all_lognorms['off_target_filter'].value_counts()"
   ]
  },
  {
   "cell_type": "markdown",
   "metadata": {},
   "source": [
    "#### Return filtered file\n",
    "Finally, we require that both filters are True, and we write out the resulting filtered file. The final file has 84,208 sgRNAs."
   ]
  },
  {
   "cell_type": "code",
   "execution_count": 21,
   "metadata": {},
   "outputs": [
    {
     "data": {
      "text/plain": [
       "(146, 8)"
      ]
     },
     "execution_count": 21,
     "metadata": {},
     "output_type": "execute_result"
    }
   ],
   "source": [
    "filtered = all_lognorms.loc[(all_lognorms['pDNA_filter'] == False) & (all_lognorms['off_target_filter'] == False), :]\n",
    "filtered.shape"
   ]
  },
  {
   "cell_type": "code",
   "execution_count": 23,
   "metadata": {},
   "outputs": [],
   "source": [
    "filtered.to_csv('../data/interim/filtered_lognorms_cp1560.csv')\n",
    "all_lognorms.to_csv('../data/interim/lognorms_with_filters_1560.csv')"
   ]
  },
  {
   "cell_type": "code",
   "execution_count": null,
   "metadata": {},
   "outputs": [],
   "source": []
  }
 ],
 "metadata": {
  "kernelspec": {
   "display_name": "Python 3",
   "language": "python",
   "name": "python3"
  },
  "language_info": {
   "codemirror_mode": {
    "name": "ipython",
    "version": 3
   },
   "file_extension": ".py",
   "mimetype": "text/x-python",
   "name": "python",
   "nbconvert_exporter": "python",
   "pygments_lexer": "ipython3",
   "version": "3.8.3"
  }
 },
 "nbformat": 4,
 "nbformat_minor": 4
}
